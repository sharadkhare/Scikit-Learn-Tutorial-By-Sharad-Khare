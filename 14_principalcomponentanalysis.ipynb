{
 "cells": [
  {
   "cell_type": "code",
   "execution_count": null,
   "id": "776d2a0d",
   "metadata": {},
   "outputs": [],
   "source": [
    "# Problem Statement - \n",
    "'''The company wants to optimize its marketing strategy by understanding\n",
    "the purchasing behavior of customers across various product categories. \n",
    "However, the dataset is high-dimensional, making it challenging to analyze \n",
    "effectively. The goal is to apply Principal Component Analysis (PCA) to \n",
    "reduce the dimensionality of the data while retaining the most critical\n",
    "information. This will help the company gain insights into the primary\n",
    "factors influencing customer purchasing behavior and improve the \n",
    "effectiveness of targeted marketing campaigns.'''\n",
    "# Solution using Principal Component Analysis (PCA)"
   ]
  },
  {
   "cell_type": "code",
   "execution_count": 2,
   "id": "b896901d",
   "metadata": {},
   "outputs": [],
   "source": [
    "import numpy as np\n",
    "import pandas as pd\n",
    "from sklearn.decomposition import PCA\n",
    "from sklearn.preprocessing import StandardScaler"
   ]
  },
  {
   "cell_type": "code",
   "execution_count": 3,
   "id": "f0304c25",
   "metadata": {},
   "outputs": [],
   "source": [
    "np.random.seed(42)\n",
    "data = np.random.rand(100,5) * 10 + 5"
   ]
  },
  {
   "cell_type": "code",
   "execution_count": 4,
   "id": "6c19879e",
   "metadata": {},
   "outputs": [],
   "source": [
    "columns = ['Product A','Product B','Product C','Product D','Product E']\n",
    "df = pd.DataFrame(data, columns=columns)"
   ]
  },
  {
   "cell_type": "code",
   "execution_count": 12,
   "id": "de61f445",
   "metadata": {},
   "outputs": [],
   "source": [
    "scaler = StandardScaler()\n",
    "scaled_data = scaler.fit_transform(df)\n"
   ]
  },
  {
   "cell_type": "code",
   "execution_count": 7,
   "id": "93604563",
   "metadata": {},
   "outputs": [],
   "source": [
    "# apply PCA\n",
    "num_components = 2\n",
    "pca = PCA(n_components = num_components)\n",
    "principal_components = pca.fit_transform(scaled_data)"
   ]
  },
  {
   "cell_type": "code",
   "execution_count": 9,
   "id": "94ba8353",
   "metadata": {},
   "outputs": [
    {
     "name": "stdout",
     "output_type": "stream",
     "text": [
      "[0.29005782 0.23214006]\n"
     ]
    }
   ],
   "source": [
    "explained_variance_ratio_ = pca.explained_variance_ratio_\n",
    "print(explained_variance_ratio_)"
   ]
  },
  {
   "cell_type": "code",
   "execution_count": 10,
   "id": "ac5d200f",
   "metadata": {},
   "outputs": [
    {
     "name": "stdout",
     "output_type": "stream",
     "text": [
      "Principal Components: \n",
      "        PC1       PC2\n",
      "0 -1.485848 -0.105171\n",
      "1 -0.090878 -1.465542\n",
      "2 -2.802347 -0.297502\n",
      "3 -0.549662 -0.022572\n",
      "4  0.846820  0.759975\n"
     ]
    }
   ],
   "source": [
    "principal_df = pd.DataFrame(data =principal_components, columns=['PC1', 'PC2'])\n",
    "print(\"Principal Components: \")\n",
    "print(principal_df.head())"
   ]
  },
  {
   "cell_type": "code",
   "execution_count": 13,
   "id": "683933ae",
   "metadata": {},
   "outputs": [
    {
     "name": "stderr",
     "output_type": "stream",
     "text": [
      "C:\\Users\\DELL\\anaconda3\\lib\\site-packages\\sklearn\\base.py:464: UserWarning: X does not have valid feature names, but StandardScaler was fitted with feature names\n",
      "  warnings.warn(\n"
     ]
    }
   ],
   "source": [
    "# user input\n",
    "user_input = np.array([[8,6,4,7,9]])\n",
    "scaled_user_input = scaler.transform(user_input)\n",
    "user_principal_components = pca.transform(scaled_user_input)"
   ]
  },
  {
   "cell_type": "code",
   "execution_count": 15,
   "id": "c21a6654",
   "metadata": {},
   "outputs": [
    {
     "name": "stdout",
     "output_type": "stream",
     "text": [
      "        PC1       PC2\n",
      "0  0.804304  0.986471\n"
     ]
    }
   ],
   "source": [
    "# display the pca for user input\n",
    "user_principal_df = pd.DataFrame(data = user_principal_components,columns=['PC1', 'PC2'])\n",
    "print(user_principal_df)"
   ]
  },
  {
   "cell_type": "code",
   "execution_count": null,
   "id": "e31e51c4",
   "metadata": {},
   "outputs": [],
   "source": []
  },
  {
   "cell_type": "code",
   "execution_count": null,
   "id": "d1fe13d1",
   "metadata": {},
   "outputs": [],
   "source": []
  },
  {
   "cell_type": "code",
   "execution_count": null,
   "id": "e184ce20",
   "metadata": {},
   "outputs": [],
   "source": []
  }
 ],
 "metadata": {
  "celltoolbar": "Raw Cell Format",
  "kernelspec": {
   "display_name": "Python 3 (ipykernel)",
   "language": "python",
   "name": "python3"
  },
  "language_info": {
   "codemirror_mode": {
    "name": "ipython",
    "version": 3
   },
   "file_extension": ".py",
   "mimetype": "text/x-python",
   "name": "python",
   "nbconvert_exporter": "python",
   "pygments_lexer": "ipython3",
   "version": "3.9.18"
  }
 },
 "nbformat": 4,
 "nbformat_minor": 5
}
