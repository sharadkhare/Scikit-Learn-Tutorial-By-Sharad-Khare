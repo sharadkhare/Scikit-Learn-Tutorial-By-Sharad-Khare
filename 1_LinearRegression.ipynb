{
 "cells": [
  {
   "cell_type": "code",
   "execution_count": null,
   "id": "776d2a0d",
   "metadata": {},
   "outputs": [],
   "source": [
    "'''Problem Statement:\n",
    "\"Predict a student's final exam score based on the number \n",
    "of hours they study.\"'''\n",
    "\n",
    "import numpy as np\n",
    "import pandas as pd\n",
    "from sklearn.model_selection import train_test_split\n",
    "from sklearn.linear_model import LinearRegression\n",
    "\n",
    "# step no 2\n",
    "sharaddata = {\n",
    "    'Hours_Study': [2, 3, 4, 5, 6, 7, 8, 9, 10],\n",
    "    'Exam_Score': [50, 60, 70, 75, 80, 85, 90, 92, 95]\n",
    "}\n",
    "# step no 3\n",
    "df = pd.DataFrame(sharaddata)\n",
    "#print(df)\n",
    "# step no 4\n",
    "X = df[['Hours_Study']]\n",
    "y = df['Exam_Score']\n",
    "\n",
    "# step no 5\n",
    "X_train, X_test, y_train, y_test = train_test_split(X, y, test_size=0.2, random_state=42)\n",
    "\n",
    "# step no 6\n",
    "model = LinearRegression()\n",
    "# step no 7\n",
    "model.fit(X_train, y_train)\n",
    "\n",
    "# user input testing\n",
    "user_input = float(input(\"Enter the number of hours you study: \"))\n",
    "\n",
    "predicted_score = model.predict([[user_input]])\n",
    "\n",
    "# printing the output\n",
    "print(f\"Predicted Exam Score: {predicted_score[0]:.2f}\")"
   ]
  },
  {
   "cell_type": "code",
   "execution_count": null,
   "id": "b896901d",
   "metadata": {},
   "outputs": [],
   "source": []
  }
 ],
 "metadata": {
  "celltoolbar": "Raw Cell Format",
  "kernelspec": {
   "display_name": "Python 3 (ipykernel)",
   "language": "python",
   "name": "python3"
  },
  "language_info": {
   "codemirror_mode": {
    "name": "ipython",
    "version": 3
   },
   "file_extension": ".py",
   "mimetype": "text/x-python",
   "name": "python",
   "nbconvert_exporter": "python",
   "pygments_lexer": "ipython3",
   "version": "3.9.18"
  }
 },
 "nbformat": 4,
 "nbformat_minor": 5
}
