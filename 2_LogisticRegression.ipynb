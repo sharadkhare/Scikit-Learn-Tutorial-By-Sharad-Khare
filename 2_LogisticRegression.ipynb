{
 "cells": [
  {
   "cell_type": "code",
   "execution_count": null,
   "id": "776d2a0d",
   "metadata": {},
   "outputs": [],
   "source": [
    "# Problem Statement\n",
    "'''In an e-commerce company, the management wants to predict \n",
    "whether a customer will purchase a high-value product based \n",
    "on their age, time spent on the website, and whether they \n",
    "have added items to their cart. The goal is to optimize \n",
    "marketing strategies by targeting potential customers more \n",
    "effectively, thereby increasing sales and revenue.'''"
   ]
  },
  {
   "cell_type": "code",
   "execution_count": 1,
   "id": "b896901d",
   "metadata": {},
   "outputs": [
    {
     "name": "stdout",
     "output_type": "stream",
     "text": [
      "Model Accuracy: 1.0\n",
      "Enter customer's age: 25\n",
      "Enter time spent on website: 30\n",
      "Enter 1 if added to cart, else enter 0: 1\n",
      "The customer is unlikely to purchase.\n"
     ]
    }
   ],
   "source": [
    "import numpy as np\n",
    "from sklearn.model_selection import train_test_split\n",
    "from sklearn.linear_model import LogisticRegression\n",
    "X = np.array([\n",
    "    [25, 30, 0],\n",
    "    [30, 40, 1],    \n",
    "    [20, 35, 0],    \n",
    "    [35, 45, 1]\n",
    "])\n",
    "\n",
    "y = np.array([0, 1, 0, 1])\n",
    "X_train, X_test, y_train, y_test = train_test_split(X, y, test_size=0.2, random_state=42)\n",
    "model = LogisticRegression()\n",
    "model.fit(X_train, y_train)\n",
    "accuracy = model.score(X_test, y_test)\n",
    "print(f\"Model Accuracy: {accuracy}\")\n",
    "user_age = float(input(\"Enter customer's age: \"))\n",
    "user_time_spent = float(input(\"Enter time spent on website: \"))\n",
    "user_added_to_cart = int(input(\"Enter 1 if added to cart, else enter 0: \"))\n",
    "user_data = np.array([[user_age, user_time_spent, user_added_to_cart]])\n",
    "prediction = model.predict(user_data)\n",
    "if prediction[0] == 1:\n",
    "    print(\"The customer is likely to purchase.\")\n",
    "else:\n",
    "    print(\"The customer is unlikely to purchase.\")"
   ]
  },
  {
   "cell_type": "code",
   "execution_count": null,
   "id": "f0304c25",
   "metadata": {},
   "outputs": [],
   "source": []
  }
 ],
 "metadata": {
  "celltoolbar": "Raw Cell Format",
  "kernelspec": {
   "display_name": "Python 3 (ipykernel)",
   "language": "python",
   "name": "python3"
  },
  "language_info": {
   "codemirror_mode": {
    "name": "ipython",
    "version": 3
   },
   "file_extension": ".py",
   "mimetype": "text/x-python",
   "name": "python",
   "nbconvert_exporter": "python",
   "pygments_lexer": "ipython3",
   "version": "3.9.18"
  }
 },
 "nbformat": 4,
 "nbformat_minor": 5
}
