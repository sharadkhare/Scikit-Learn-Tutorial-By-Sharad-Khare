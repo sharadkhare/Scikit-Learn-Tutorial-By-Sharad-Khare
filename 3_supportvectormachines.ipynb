{
 "cells": [
  {
   "cell_type": "code",
   "execution_count": null,
   "id": "776d2a0d",
   "metadata": {},
   "outputs": [],
   "source": [
    "# Problem Statement\n",
    "'''A telecommunications company wants to reduce customer churn \n",
    "by identifying customers at risk of leaving. They have historical \n",
    "data on customer behavior and want to build a model to predict which \n",
    "customers are most likely to churn.'''"
   ]
  },
  {
   "cell_type": "code",
   "execution_count": null,
   "id": "b896901d",
   "metadata": {},
   "outputs": [],
   "source": [
    "import numpy as np\n",
    "import pandas as pd\n",
    "from sklearn.model_selection import train_test_split\n",
    "from sklearn.svm import SVC\n",
    "from sklearn.metrics import accuracy_score, classification_report"
   ]
  },
  {
   "cell_type": "code",
   "execution_count": null,
   "id": "f0304c25",
   "metadata": {},
   "outputs": [],
   "source": [
    "# step no 2\n",
    "data = {'Age': [30,25,35,20,40,55,32,28], 'MonthlyCharge': [50,60,80,40,100,120,70,55], 'churn': [0,1,0,1,0,1,0,1]}\n",
    "df = pd.DataFrame(data)\n",
    "print(df)"
   ]
  },
  {
   "cell_type": "code",
   "execution_count": null,
   "id": "230e5030",
   "metadata": {},
   "outputs": [],
   "source": [
    "X = df[['Age','MonthlyCharge']]\n",
    "y = df['churn']"
   ]
  },
  {
   "cell_type": "code",
   "execution_count": null,
   "id": "d64f7bb1",
   "metadata": {},
   "outputs": [],
   "source": [
    "# step no 3\n",
    "X_train,X_test, y_train, y_test = train_test_split(X,y,test_size=0.2, random_state=42)"
   ]
  },
  {
   "cell_type": "code",
   "execution_count": null,
   "id": "c5e00aaf",
   "metadata": {},
   "outputs": [],
   "source": [
    "# step no 4\n",
    "svc_model = SVC(kernel='linear', C=1.0) # default regularization\n",
    "svc_model.fit(X_train,y_train)"
   ]
  },
  {
   "cell_type": "code",
   "execution_count": null,
   "id": "ca5de7c6",
   "metadata": {},
   "outputs": [],
   "source": [
    "# step no 5\n",
    "y_pred = svc_model.predict(X_test)"
   ]
  },
  {
   "cell_type": "code",
   "execution_count": null,
   "id": "554c7204",
   "metadata": {},
   "outputs": [],
   "source": [
    "accuracy = accuracy_score(y_test,y_pred)\n",
    "print(accuracy)"
   ]
  },
  {
   "cell_type": "code",
   "execution_count": 17,
   "id": "a36340d8",
   "metadata": {},
   "outputs": [
    {
     "name": "stdout",
     "output_type": "stream",
     "text": [
      "              precision    recall  f1-score   support\n",
      "\n",
      "           0       0.00      0.00      0.00         0\n",
      "           1       1.00      0.50      0.67         2\n",
      "\n",
      "    accuracy                           0.50         2\n",
      "   macro avg       0.50      0.25      0.33         2\n",
      "weighted avg       1.00      0.50      0.67         2\n",
      "\n"
     ]
    },
    {
     "name": "stderr",
     "output_type": "stream",
     "text": [
      "C:\\Users\\DELL\\anaconda3\\lib\\site-packages\\sklearn\\metrics\\_classification.py:1469: UndefinedMetricWarning: Recall and F-score are ill-defined and being set to 0.0 in labels with no true samples. Use `zero_division` parameter to control this behavior.\n",
      "  _warn_prf(average, modifier, msg_start, len(result))\n",
      "C:\\Users\\DELL\\anaconda3\\lib\\site-packages\\sklearn\\metrics\\_classification.py:1469: UndefinedMetricWarning: Recall and F-score are ill-defined and being set to 0.0 in labels with no true samples. Use `zero_division` parameter to control this behavior.\n",
      "  _warn_prf(average, modifier, msg_start, len(result))\n",
      "C:\\Users\\DELL\\anaconda3\\lib\\site-packages\\sklearn\\metrics\\_classification.py:1469: UndefinedMetricWarning: Recall and F-score are ill-defined and being set to 0.0 in labels with no true samples. Use `zero_division` parameter to control this behavior.\n",
      "  _warn_prf(average, modifier, msg_start, len(result))\n"
     ]
    }
   ],
   "source": [
    "report = classification_report(y_test, y_pred)\n",
    "print(report)"
   ]
  },
  {
   "cell_type": "code",
   "execution_count": 19,
   "id": "fc94c037",
   "metadata": {},
   "outputs": [
    {
     "name": "stdout",
     "output_type": "stream",
     "text": [
      "Enter customer age: 35\n",
      "Enter customer monthly charges: 40\n",
      "The customer is likely to stay. \n"
     ]
    },
    {
     "name": "stderr",
     "output_type": "stream",
     "text": [
      "C:\\Users\\DELL\\anaconda3\\lib\\site-packages\\sklearn\\base.py:464: UserWarning: X does not have valid feature names, but SVC was fitted with feature names\n",
      "  warnings.warn(\n"
     ]
    }
   ],
   "source": [
    "# step no 6 - user input\n",
    "user_age = float(input(\"Enter customer age: \"))\n",
    "user_monthly_charge=float(input(\"Enter customer monthly charges: \"))\n",
    "user_input = np.array([[user_age,user_monthly_charge]])\n",
    "prediction = svc_model.predict(user_input)\n",
    "if prediction[0] == 0:\n",
    "    print(\"The customer is likely to stay. \")\n",
    "else:\n",
    "    print(\"The customer is at risk of churning\")"
   ]
  },
  {
   "cell_type": "code",
   "execution_count": null,
   "id": "ed2fa289",
   "metadata": {},
   "outputs": [],
   "source": []
  }
 ],
 "metadata": {
  "celltoolbar": "Raw Cell Format",
  "kernelspec": {
   "display_name": "Python 3 (ipykernel)",
   "language": "python",
   "name": "python3"
  },
  "language_info": {
   "codemirror_mode": {
    "name": "ipython",
    "version": 3
   },
   "file_extension": ".py",
   "mimetype": "text/x-python",
   "name": "python",
   "nbconvert_exporter": "python",
   "pygments_lexer": "ipython3",
   "version": "3.9.18"
  }
 },
 "nbformat": 4,
 "nbformat_minor": 5
}
