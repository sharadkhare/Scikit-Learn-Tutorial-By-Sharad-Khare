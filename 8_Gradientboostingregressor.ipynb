{
 "cells": [
  {
   "cell_type": "code",
   "execution_count": null,
   "id": "776d2a0d",
   "metadata": {},
   "outputs": [],
   "source": [
    "# Problem Statement\n",
    "'''Create a predictive model using Gradient Boosting to forecast housing \n",
    "prices based on various features such as square footage, number of bedrooms, \n",
    "number of bathrooms, and location.'''"
   ]
  },
  {
   "cell_type": "code",
   "execution_count": null,
   "id": "b896901d",
   "metadata": {},
   "outputs": [],
   "source": [
    "import pandas as pd\n",
    "from sklearn.model_selection import train_test_split\n",
    "from sklearn.ensemble import GradientBoostingRegressor\n",
    "from sklearn.metrics import mean_squared_error"
   ]
  },
  {
   "cell_type": "code",
   "execution_count": null,
   "id": "f0304c25",
   "metadata": {},
   "outputs": [],
   "source": [
    "#step no 2\n",
    "data = {'SquareFootage': [1500,2000,1200,1800,1350],\n",
    "       'Bedrooms': [3,4,2,3,3],\n",
    "       'Bathrooms': [2,2.5,1.5,2,2],\n",
    "       'Location': ['Suburb','City','Rural','City','Suburb'],\n",
    "       'Price': [250000,300000,180000,280000,220000]}"
   ]
  },
  {
   "cell_type": "code",
   "execution_count": 14,
   "id": "6c19879e",
   "metadata": {},
   "outputs": [
    {
     "name": "stdout",
     "output_type": "stream",
     "text": [
      "   SquareFootage  Bedrooms  Bathrooms Location   Price\n",
      "0           1500         3        2.0   Suburb  250000\n",
      "1           2000         4        2.5     City  300000\n",
      "2           1200         2        1.5    Rural  180000\n",
      "3           1800         3        2.0     City  280000\n",
      "4           1350         3        2.0   Suburb  220000\n"
     ]
    }
   ],
   "source": [
    "df = pd.DataFrame(data)\n",
    "print(df)"
   ]
  },
  {
   "cell_type": "code",
   "execution_count": null,
   "id": "de61f445",
   "metadata": {},
   "outputs": [],
   "source": [
    "# converting the location column to dummy\n",
    "df = pd.get_dummies(df,columns=['Location'])"
   ]
  },
  {
   "cell_type": "code",
   "execution_count": null,
   "id": "93604563",
   "metadata": {},
   "outputs": [],
   "source": [
    "X = df.drop('Price', axis=1)\n",
    "y = df['Price']"
   ]
  },
  {
   "cell_type": "code",
   "execution_count": null,
   "id": "94ba8353",
   "metadata": {},
   "outputs": [],
   "source": [
    "X_train, X_test,y_train, y_test = train_test_split(X,y, test_size=0.2, random_state=42)"
   ]
  },
  {
   "cell_type": "code",
   "execution_count": null,
   "id": "ac5d200f",
   "metadata": {},
   "outputs": [],
   "source": [
    "model = GradientBoostingRegressor()"
   ]
  },
  {
   "cell_type": "code",
   "execution_count": null,
   "id": "683933ae",
   "metadata": {},
   "outputs": [],
   "source": [
    "model.fit(X_train,y_train)"
   ]
  },
  {
   "cell_type": "code",
   "execution_count": null,
   "id": "c21a6654",
   "metadata": {},
   "outputs": [],
   "source": [
    "y_pred = model.predict(X_test)"
   ]
  },
  {
   "cell_type": "code",
   "execution_count": null,
   "id": "e31e51c4",
   "metadata": {},
   "outputs": [],
   "source": [
    "mse = mean_squared_error(y_test,y_pred)\n",
    "print(mse)"
   ]
  },
  {
   "cell_type": "code",
   "execution_count": 13,
   "id": "d1fe13d1",
   "metadata": {},
   "outputs": [
    {
     "name": "stdout",
     "output_type": "stream",
     "text": [
      "Enter the details for house prediction:\n",
      "Square Footage: 1500\n",
      "Number of bedrooms: 2\n",
      "Numbers of Bathrooms: 2\n",
      "Location (Suburb/City/Rural): City\n",
      "Predicted Price for the House : 275089.94565288775\n"
     ]
    }
   ],
   "source": [
    "# user input\n",
    "print(\"Enter the details for house prediction:\")\n",
    "sq_footage=float(input(\"Square Footage: \"))\n",
    "bedrooms = int(input(\"Number of bedrooms: \"))\n",
    "bathrooms = float(input(\"Numbers of Bathrooms: \"))\n",
    "location = input(\"Location (Suburb/City/Rural): \")\n",
    "\n",
    "input_location = [0,0,0]\n",
    "if location == 'Suburb':\n",
    "    input_location[0]=1\n",
    "elif location == 'City':\n",
    "    input_location[1]=1\n",
    "elif location == 'Rural':\n",
    "    input_location[2]=1\n",
    "\n",
    "user_input = pd.DataFrame({'SquareFootage': [sq_footage],\n",
    "       'Bedrooms': [bedrooms],\n",
    "       'Bathrooms': [bathrooms],\n",
    "       'Location_City': [input_location[1]],\n",
    "        'Location_Rural': [input_location[2]],\n",
    "        'Location_Suburb': [input_location[0]]\n",
    "                          })\n",
    "\n",
    "# make the prediction\n",
    "predicted_price = model.predict(user_input)\n",
    "print(f\"Predicted Price for the House : {predicted_price[0]}\")"
   ]
  },
  {
   "cell_type": "code",
   "execution_count": null,
   "id": "e184ce20",
   "metadata": {},
   "outputs": [],
   "source": []
  }
 ],
 "metadata": {
  "celltoolbar": "Raw Cell Format",
  "kernelspec": {
   "display_name": "Python 3 (ipykernel)",
   "language": "python",
   "name": "python3"
  },
  "language_info": {
   "codemirror_mode": {
    "name": "ipython",
    "version": 3
   },
   "file_extension": ".py",
   "mimetype": "text/x-python",
   "name": "python",
   "nbconvert_exporter": "python",
   "pygments_lexer": "ipython3",
   "version": "3.9.18"
  }
 },
 "nbformat": 4,
 "nbformat_minor": 5
}
